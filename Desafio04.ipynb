{
 "cells": [
  {
   "cell_type": "code",
   "execution_count": 1,
   "metadata": {},
   "outputs": [],
   "source": [
    "#INSTALAÇÃO DE COMPONENTES NECESSÁRIOS"
   ]
  },
  {
   "cell_type": "code",
   "execution_count": null,
   "metadata": {},
   "outputs": [],
   "source": [
    "pip install pandas matplotlib numpy cython\n",
    "pip install pystan\n",
    "pip install fbprophet"
   ]
  },
  {
   "cell_type": "code",
   "execution_count": null,
   "metadata": {},
   "outputs": [],
   "source": [
    "import numpy as np\n",
    "import pandas as pd\n",
    "from fbprophet import Prophet"
   ]
  },
  {
   "cell_type": "code",
   "execution_count": null,
   "metadata": {},
   "outputs": [],
   "source": [
    "#PARA ESTE DESAFIO PRECISAMOS AGRUPAR TODAS AS CONCEÇÕES DE CRÉDITO POR DIA.\n",
    "#FIZEMOS ESTE TRABALHO NO EXCEL E GERAMOS O CSV ANEXO À ESTE NOTEBOOK.\n",
    "#OS DADOS NÃO ESTÃO ENRIQUECIDOS, APENAS AGRUPADOS POR DIA, A FIM DE PODERMOS TRABALHAR COM TIME SERIES"
   ]
  },
  {
   "cell_type": "code",
   "execution_count": null,
   "metadata": {},
   "outputs": [],
   "source": [
    "#CARGA DOS DADOS, E SEPARAÇÃO DO CONJUNTO DE TREINO E TESTE"
   ]
  },
  {
   "cell_type": "code",
   "execution_count": null,
   "metadata": {},
   "outputs": [],
   "source": [
    "base_dataset = pd.read_csv('desafio04_marcio.csv',sep=';')\n",
    "df = base_dataset.copy(deep=True)\n",
    "\n",
    "df['ds'] = pd.DatetimeIndex(df['ds'])\n",
    "    \n",
    "df_test = df[258:].copy(deep=True)\n",
    "df_test_backup = df_test.copy(deep=True)\n",
    "df_test = df_test.drop('y', axis=1).copy(deep=True)\n",
    "df = df[:258].copy(deep=True)\n",
    "\n",
    "df_test.head(5)  "
   ]
  },
  {
   "cell_type": "code",
   "execution_count": null,
   "metadata": {},
   "outputs": [],
   "source": [
    "#CRIAÇÃO E TREINAMENTO DO MODELO"
   ]
  },
  {
   "cell_type": "code",
   "execution_count": null,
   "metadata": {},
   "outputs": [],
   "source": [
    "my_model = Prophet(interval_width=0.95)\n",
    "my_model.fit(df)"
   ]
  },
  {
   "cell_type": "code",
   "execution_count": null,
   "metadata": {},
   "outputs": [],
   "source": [
    "#PREDIÇÃO"
   ]
  },
  {
   "cell_type": "code",
   "execution_count": null,
   "metadata": {},
   "outputs": [],
   "source": [
    "forecast = my_model.predict(df_test)\n",
    "forecast"
   ]
  },
  {
   "cell_type": "code",
   "execution_count": null,
   "metadata": {},
   "outputs": [],
   "source": [
    "#PÓS PROCESSAMENTO PARA EXIBIÇÃO"
   ]
  },
  {
   "cell_type": "code",
   "execution_count": null,
   "metadata": {},
   "outputs": [],
   "source": [
    "y_pred = forecast.copy(deep=True)\n",
    "yhat = y_pred.iloc[:,[0,15]].copy(deep=True)\n",
    "yhat"
   ]
  },
  {
   "cell_type": "code",
   "execution_count": null,
   "metadata": {},
   "outputs": [],
   "source": [
    "print(\"Total dia 23.02.21: {:.2f}\".format(df_test_backup.iloc[0][1]))\n",
    "print(\"Total previsto para o dia 23.02.21: {:.2f}\".format(yhat.iloc[0][1]))\n",
    "print(\"Diferença de: {:.2f}\".format((df_test_backup.iloc[0][1] - yhat.iloc[0][1])))\n",
    "print(\"\\nTotal dia 24.02.21: {:.2f}\".format(df_test_backup.iloc[1][1]))\n",
    "print(\"Total previsto para o dia 24.02.21: {:.2f}\".format(yhat.iloc[1][1]))\n",
    "print(\"Diferença de: {:.2f}\".format((df_test_backup.iloc[1][1] - yhat.iloc[1][1])))\n",
    "print(\"\\nTotal dia 25.02.21: {:.2f}\".format(df_test_backup.iloc[2][1]))\n",
    "print(\"Total previsto para o dia 25.02.21: {:.2f}\".format(yhat.iloc[2][1]))\n",
    "print(\"Diferença de: {:.2f}\".format((df_test_backup.iloc[2][1] - yhat.iloc[2][1])))"
   ]
  },
  {
   "cell_type": "code",
   "execution_count": null,
   "metadata": {},
   "outputs": [],
   "source": [
    "#FIM DO DESAFIO 04"
   ]
  }
 ],
 "metadata": {
  "kernelspec": {
   "display_name": "Python 3",
   "language": "python",
   "name": "python3"
  },
  "language_info": {
   "codemirror_mode": {
    "name": "ipython",
    "version": 3
   },
   "file_extension": ".py",
   "mimetype": "text/x-python",
   "name": "python",
   "nbconvert_exporter": "python",
   "pygments_lexer": "ipython3",
   "version": "3.8.3"
  }
 },
 "nbformat": 4,
 "nbformat_minor": 4
}
